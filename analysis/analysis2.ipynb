{
 "cells": [
  {
   "cell_type": "markdown",
   "metadata": {},
   "source": [
    "# Tate Bond"
   ]
  },
  {
   "cell_type": "markdown",
   "metadata": {},
   "source": [
    "## Research question/interests\n",
    "\n",
    "I will analyze and quantify the rise of three-point shooting in the NBA. This will include analysis of a potential increase in three point percentage, in addition to the increase in volume. In addition, we could look at how recent champions have shot the three. We could also compare the increases in three point shooting by position. We could also look at how offensive rebounding has changed over time, since three point shots tend to result in longer rebounds, and potentially fewer offensive rebounds. We can compare the data by year or by decade, to see how shooting has changed, especially in the 2010s. In addition, I will explore the evolution of the three-point shot and how its role in the game of basketball has changed substantially. The three-point has dramatically impacted how teams play the game, and I want to quantify that through my research."
   ]
  },
  {
   "cell_type": "code",
   "execution_count": null,
   "metadata": {},
   "outputs": [],
   "source": []
  }
 ],
 "metadata": {
  "kernelspec": {
   "display_name": "Python 3 (ipykernel)",
   "language": "python",
   "name": "python3"
  },
  "language_info": {
   "codemirror_mode": {
    "name": "ipython",
    "version": 3
   },
   "file_extension": ".py",
   "mimetype": "text/x-python",
   "name": "python",
   "nbconvert_exporter": "python",
   "pygments_lexer": "ipython3",
   "version": "3.10.8"
  }
 },
 "nbformat": 4,
 "nbformat_minor": 4
}
