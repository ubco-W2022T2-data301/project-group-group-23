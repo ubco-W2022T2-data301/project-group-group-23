{
 "cells": [
  {
   "cell_type": "markdown",
   "metadata": {
    "tags": []
   },
   "source": [
    "# Jose Tomas Lopez"
   ]
  },
  {
   "cell_type": "markdown",
   "metadata": {},
   "source": [
    "I will investigate the decline of mid-range jump shots in the NBA. I will quantify and visualize the decline in mid range shooting volume by year throughout NBA history, specifically in the least decade. In addition, I want to examine mid range efficiency, and see if mid range shooters are getting less efficient, or if the decline in volume has nothing to do with players become less efficient. We can also compare the best mid-range shooters across eras, for example Michael Jordan compared to Demar Derozan. I want to examine and quantify how this trend away from mid-range shooting has impacted the game. Additionally, I want to find out if the mid-range shot is still helpful in basketball now and if it will even be relevant in the future.## Research question/interests\n"
   ]
  },
  {
   "cell_type": "code",
   "execution_count": null,
   "metadata": {},
   "outputs": [],
   "source": []
  }
 ],
 "metadata": {
  "kernelspec": {
   "display_name": "Python 3 (ipykernel)",
   "language": "python",
   "name": "python3"
  },
  "language_info": {
   "codemirror_mode": {
    "name": "ipython",
    "version": 3
   },
   "file_extension": ".py",
   "mimetype": "text/x-python",
   "name": "python",
   "nbconvert_exporter": "python",
   "pygments_lexer": "ipython3",
   "version": "3.10.8"
  }
 },
 "nbformat": 4,
 "nbformat_minor": 4
}
