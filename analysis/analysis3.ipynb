{
 "cells": [
  {
   "cell_type": "markdown",
<<<<<<< HEAD
   "metadata": {},
   "source": [
    "# Your Name Here"
=======
   "metadata": {
    "tags": []
   },
   "source": [
    "# Jose Tomas Lopez"
>>>>>>> a0dfe30e2171f027f18dde4f56bc2a5998582cb3
   ]
  },
  {
   "cell_type": "markdown",
   "metadata": {},
   "source": [
    "## Research question/interests\n",
    "\n",
<<<<<<< HEAD
    "Briefly describe your research question or interests here."
=======
    "Briefly describe your research question or interests here.\n",
    "\n",
    "How important was Stephen Curry to the game of Basketball/how unique of a player is he? We will use data analysis to prove this/disprove this question.\n",
    "\n",
    "Interests: Miami Heat, fantasy books, sci fi books, getting a good grade."
>>>>>>> a0dfe30e2171f027f18dde4f56bc2a5998582cb3
   ]
  }
 ],
 "metadata": {
  "kernelspec": {
   "display_name": "Python 3 (ipykernel)",
   "language": "python",
   "name": "python3"
  },
  "language_info": {
   "codemirror_mode": {
    "name": "ipython",
    "version": 3
   },
   "file_extension": ".py",
   "mimetype": "text/x-python",
   "name": "python",
   "nbconvert_exporter": "python",
   "pygments_lexer": "ipython3",
   "version": "3.10.8"
  }
 },
 "nbformat": 4,
 "nbformat_minor": 4
}
