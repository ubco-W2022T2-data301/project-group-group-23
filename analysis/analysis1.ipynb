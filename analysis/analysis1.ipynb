{
 "cells": [
  {
   "cell_type": "markdown",
   "metadata": {},
   "source": [
    "# Ronak Jain"
   ]
  },
  {
   "cell_type": "markdown",
   "metadata": {},
   "source": [
    "## Research question/interests\n",
    "\n",
    "Through this data analysis, we aim to demonstrate the exceptional ability of Stephen Curry and establish his status as the greatest three-point shooter in the history of the sport. To see how good Stephen curry is by comparing his stats with other great three-point shooters such as Ray Allen, Reggie Miller, and Klay Thompson. By doing so, I hope to gain a more comprehensive comprehension of his exceptional abilities and present a thorough, yet succinct, assessment of his overall on-court impact. Throughout this analysis, I will prioritize offering an impartial and objective evaluation of Stephen Curry's skills, while also endeavouring to highlight his distinctive strengths to a wider audience."
   ]
  },
  {
   "cell_type": "code",
   "execution_count": null,
   "metadata": {},
   "outputs": [],
   "source": []
  }
 ],
 "metadata": {
  "kernelspec": {
   "display_name": "Python 3 (ipykernel)",
   "language": "python",
   "name": "python3"
  },
  "language_info": {
   "codemirror_mode": {
    "name": "ipython",
    "version": 3
   },
   "file_extension": ".py",
   "mimetype": "text/x-python",
   "name": "python",
   "nbconvert_exporter": "python",
   "pygments_lexer": "ipython3",
   "version": "3.10.8"
  }
 },
 "nbformat": 4,
 "nbformat_minor": 4
}
