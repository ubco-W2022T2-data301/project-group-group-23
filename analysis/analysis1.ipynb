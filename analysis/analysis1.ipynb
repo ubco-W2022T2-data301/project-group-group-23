{
 "cells": [
  {
   "cell_type": "markdown",
   "metadata": {},
   "source": [
<<<<<<< HEAD
    "# Your Name Here"
=======
    "# Ronak Jain"
>>>>>>> a0dfe30e2171f027f18dde4f56bc2a5998582cb3
   ]
  },
  {
   "cell_type": "markdown",
   "metadata": {},
   "source": [
    "## Research question/interests\n",
    "\n",
<<<<<<< HEAD
    "Briefly describe your research question or interests here."
=======
    "Through this data analysis, we aim to demonstrate the exceptional ability of Stephen Curry and establish his status as the greatest three-point shooter in the history of the sport."
>>>>>>> a0dfe30e2171f027f18dde4f56bc2a5998582cb3
   ]
  }
 ],
 "metadata": {
  "kernelspec": {
   "display_name": "Python 3 (ipykernel)",
   "language": "python",
   "name": "python3"
  },
  "language_info": {
   "codemirror_mode": {
    "name": "ipython",
    "version": 3
   },
   "file_extension": ".py",
   "mimetype": "text/x-python",
   "name": "python",
   "nbconvert_exporter": "python",
   "pygments_lexer": "ipython3",
<<<<<<< HEAD
   "version": "3.10.8"
=======
   "version": "3.9.15"
>>>>>>> a0dfe30e2171f027f18dde4f56bc2a5998582cb3
  }
 },
 "nbformat": 4,
 "nbformat_minor": 4
}
