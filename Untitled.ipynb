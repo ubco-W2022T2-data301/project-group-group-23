{
 "cells": [
  {
   "cell_type": "markdown",
   "id": "d1f28e38-77cc-4ad4-b3cc-9172d1003ec3",
   "metadata": {},
   "source": [
    "**Question 1 + Results**\n",
    "\n",
    "My research goal is to analyze Stephen Curry's offensive skills, particularly his incredible three-point shooting, to show why he is one of the greatest basketball players of all time. In this research, I hope to demonstrate his particular strengths to a larger audience in an understandable manner.\n",
    "![Analysisgraph1](images/Analysisgraph1.png)\n",
    "![Analysisgraph2](images/Analysisgraph2.png)\n",
    "![Analysisgraph3](images/Analysisgraph3.png)"
   ]
  },
  {
   "cell_type": "markdown",
   "id": "e09ead56-d2c7-46f9-81d7-4c80bc01ff5f",
   "metadata": {},
   "source": [
    "\n",
    "This graph shows that three-point percentage has increased from around 25% in the early 1980s to around 35% today. Although the three-point percentage has stayed at roughly 35% since around the year 2000, players are shooting much higher volumes today, proving that shooters today are better than ever. You can find the full analysis [here](https://github.com/ubco-W2022T2-data301/project-group-group-23/blob/main/analysis/analysis1.ipynb) if you are interested in reading a more in depth anaylsis of Stephen Curry ability. \n"
   ]
  },
  {
   "cell_type": "code",
   "execution_count": null,
   "id": "d7112fcf-8a10-4624-b724-a237cad80104",
   "metadata": {},
   "outputs": [],
   "source": []
  }
 ],
 "metadata": {
  "kernelspec": {
   "display_name": "Python 3 (ipykernel)",
   "language": "python",
   "name": "python3"
  },
  "language_info": {
   "codemirror_mode": {
    "name": "ipython",
    "version": 3
   },
   "file_extension": ".py",
   "mimetype": "text/x-python",
   "name": "python",
   "nbconvert_exporter": "python",
   "pygments_lexer": "ipython3",
   "version": "3.9.15"
  }
 },
 "nbformat": 4,
 "nbformat_minor": 5
}
